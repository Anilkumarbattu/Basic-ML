{
  "nbformat": 4,
  "nbformat_minor": 0,
  "metadata": {
    "colab": {
      "name": "My firstcolab.ipynb",
      "provenance": [],
      "authorship_tag": "ABX9TyNxV1NZfVMnkid5FkEELYhV",
      "include_colab_link": true
    },
    "kernelspec": {
      "name": "python3",
      "display_name": "Python 3"
    },
    "language_info": {
      "name": "python"
    }
  },
  "cells": [
    {
      "cell_type": "markdown",
      "metadata": {
        "id": "view-in-github",
        "colab_type": "text"
      },
      "source": [
        "<a href=\"https://colab.research.google.com/github/Anilkumarbattu/Basic-ML/blob/main/My_firstcolab.ipynb\" target=\"_parent\"><img src=\"https://colab.research.google.com/assets/colab-badge.svg\" alt=\"Open In Colab\"/></a>"
      ]
    },
    {
      "cell_type": "markdown",
      "metadata": {
        "id": "d-PRv5Rz4pLn"
      },
      "source": [
        "**program for sum of squares of 1st n natural numbers:**"
      ]
    },
    {
      "cell_type": "code",
      "metadata": {
        "colab": {
          "base_uri": "https://localhost:8080/"
        },
        "id": "1GCM2D5f4vOm",
        "outputId": "7a1b4df9-c04b-48c8-8827-4b43bb5fbec6"
      },
      "source": [
        "n=int(input())\n",
        "sum=0 \n",
        "for i in range(1,n+1):\n",
        "  sum=sum+i*i \n",
        "print(sum) "
      ],
      "execution_count": 2,
      "outputs": [
        {
          "output_type": "stream",
          "text": [
            "5\n",
            "55\n"
          ],
          "name": "stdout"
        }
      ]
    },
    {
      "cell_type": "markdown",
      "metadata": {
        "id": "DgIOfM2A5Ogs"
      },
      "source": [
        "**python program for power (x,n):**"
      ]
    },
    {
      "cell_type": "code",
      "metadata": {
        "colab": {
          "base_uri": "https://localhost:8080/"
        },
        "id": "oCY0PiAt5SCN",
        "outputId": "e81869b5-a17e-4920-83fe-920df146166d"
      },
      "source": [
        "def power(x,n):\n",
        "  if x==0 or n==0:\n",
        "    if x==0:\n",
        "      return 0\n",
        "    else: return 1\n",
        "  else: return x*power(x,n-1) \n",
        "x=int(input())\n",
        "n=int(input())\n",
        "print(power(x,n)) "
      ],
      "execution_count": 7,
      "outputs": [
        {
          "output_type": "stream",
          "text": [
            "5\n",
            "2\n",
            "25\n"
          ],
          "name": "stdout"
        }
      ]
    },
    {
      "cell_type": "markdown",
      "metadata": {
        "id": "AmKAITHE6CCW"
      },
      "source": [
        "**python program for sum of 1st n natural numbers:**"
      ]
    },
    {
      "cell_type": "code",
      "metadata": {
        "colab": {
          "base_uri": "https://localhost:8080/"
        },
        "id": "hz31xaxA6KG8",
        "outputId": "bc98d741-6c88-4841-dc47-434f3c0ee972"
      },
      "source": [
        "n=int(input()) \n",
        "sum=0 \n",
        "for i in range(1,n+1):\n",
        "  sum=sum+i \n",
        "print(sum) \n"
      ],
      "execution_count": 8,
      "outputs": [
        {
          "output_type": "stream",
          "text": [
            "5\n",
            "15\n"
          ],
          "name": "stdout"
        }
      ]
    }
  ]
}